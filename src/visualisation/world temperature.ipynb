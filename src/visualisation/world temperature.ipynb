{
 "cells": [
  {
   "cell_type": "code",
   "execution_count": 1,
   "metadata": {},
   "outputs": [],
   "source": [
    "# import relevant packages\n",
    "import geopandas as gpd\n",
    "import pandas as pd\n",
    "import matplotlib.pyplot as plt# import relevant data\n",
    "world_map = gpd.read_file(\"../datasets/world_map/world-administrative-boundaries.shp\")\n",
    "stats=pd.read_csv(\"../datasets/clean/surface-temperatures.csv\")\n",
    "\n",
    "map_countries = world_map[\"name\"]\n",
    "\n",
    "\n",
    "\n",
    "\n",
    "# Rename countries in the stats dataset to match the map dataset\n",
    "\n",
    "remappings = {\n",
    "    \"Afghanistan, Islamic Rep. of\": \"Afghanistan\",\n",
    "    \"China, P.R.: Hong Kong\": \"Hong Kong\",\n",
    "    \"Andorra, Principality of\": \"Andorra\",\n",
    "    \"Bahrain, Kingdom of\": \"Bahrain\",\n",
    "    \"Bahamas, The\" : \"Bahamas\",\n",
    "    \"Central African Rep.\" : \"Central African Republic\",\n",
    "    \"China, P.R.: Macao\" : \"Macao\",\n",
    "    \"China, P.R.: Mainland\" : \"China\",\n",
    "    \"Comoros, Union of the\" : \"Comoros\",\n",
    "    \"Netherlands, The\" : \"Netherlands\",\n",
    "    \"Eswatini, Kingdom of\" : \"Eswatini\",\n",
    "    \"Dominican Rep.\" : \"Dominican Republic\",\n",
    "    \"Egypt, Arab Rep. of\" : \"Egypt\",\n",
    "    \"Gambia, The\" : \"Gambia\",\n",
    "    \"Poland, Rep. of\" : \"Poland\",\n",
    "    \"Mauritania, Islamic Rep. of\" : \"Mauritania\",\n",
    "    \"Madagascar, Rep. of\" : \"Madagascar\",\n",
    "    \"Lesotho, Kingdom of\" : \"Lesotho\",\n",
    "    \"Mozambique, Rep. of\" : \"Mozambique\",\n",
    "    \"Lao People's Dem. Rep.\" : \"Lao People's Democratic Republic\",\n",
    "    \"Congo, Rep. of\": \"Congo\",\n",
    "    \"Equatorial Guinea, Rep. of\" : \"Equatorial Guinea\",\n",
    "    \"Korea, Rep. of\" : \"Republic of Korea\",\n",
    "    \"Korea, Dem. People's Rep. of\" : \"Democratic People's Republic of Korea\",\n",
    "    \"Syrian Arab Rep.\" : \"Syrian Arab Republic\",\n",
    "    \"Taiwan Province of China\" : \"Taiwan\",\n",
    "    \"United Kingdom\": \"U.K. of Great Britain and Northern Ireland\",\n",
    "    \"Antigua and Barbuda\": \"Antigua & Barbuda\",\n",
    "    \"Iran, Islamic Rep. of\": \"Iran (Islamic Republic of)\",\n",
    "    \"Fiji, Rep. of\": \"Fiji\",    \n",
    "    \"United States\": \"United States of America\",\n",
    "    \"Congo, Dem. Rep. of the\": \"Democratic Republic of the Congo\",\n",
    "    \"Tanzania, United Rep. of\": \"United Republic of Tanzania\",\n",
    "    \"Cabo Verde\": \"Cape Verde\",\n",
    "    \"Libya\": \"Libyan Arab Jamahiriya\",\n",
    "    \"San Marino, Rep. of\": \"San Marino\",\n",
    "    \"West Bank and Gaza\": \"West Bank\",\n",
    "    \"Venezuela, Rep. Bolivariana de\": \"Venezuela\",\n",
    "    \"St. Vincent and the Grenadines\": \"Saint Vincent and the Grenadines\",\n",
    "    \"Saint Pierre and Miquelon\": \"Saint Pierre & Miquelon\",\n",
    "    \"St. Lucia\": \"Saint Lucia\",\n",
    "    \"St. Kitts and Nevis\": \"Saint Kitts and Nevis\",\n",
    "    \"São Tomé and Príncipe, Dem. Rep. of\": \"Sao Tome and Principe\",\n",
    "\n",
    "}\n",
    "# Check what countries are in the stats dataset but not in the map dataset, they are probably just named differently\n",
    "stats[\"Country\"] = stats[\"Country\"].replace(remappings)\n",
    "stats_countries = stats[\"Country\"]\n",
    "\n",
    "map_and_stats = world_map.merge(stats, left_on=\"name\", right_on=\"Country\", how=\"inner\")\n",
    "\n",
    "\n",
    "# print(world_map)"
   ]
  },
  {
   "cell_type": "code",
   "execution_count": 20,
   "metadata": {},
   "outputs": [
    {
     "data": {
      "application/vnd.jupyter.widget-view+json": {
       "model_id": "8ed6203c3e704bf78eede722a2bfd853",
       "version_major": 2,
       "version_minor": 0
      },
      "text/plain": [
       "interactive(children=(IntSlider(value=1995, description='year', max=2020, min=1970), Output()), _dom_classes=(…"
      ]
     },
     "metadata": {},
     "output_type": "display_data"
    },
    {
     "data": {
      "text/plain": [
       "<function __main__.update(year)>"
      ]
     },
     "execution_count": 20,
     "metadata": {},
     "output_type": "execute_result"
    }
   ],
   "source": [
    "from matplotlib.widgets import Slider\n",
    "from ipywidgets import interact\n",
    "\n",
    "\n",
    "def update(year):\n",
    "    print(year)\n",
    "    fig, ax = plt.subplots(1, figsize=(8, 8))\n",
    "\n",
    "    map_and_stats.plot(column=str(year), cmap=\"Reds\", linewidth=0.3, ax=ax, edgecolor=\".2\")    \n",
    "\n",
    "\n",
    "interact(update, year=(1970, 2020, 1))   \n",
    "\n",
    "# map_and_stats.plot(column=\"1970\", cmap=\"Reds\", linewidth=0.3, ax=ax, edgecolor=\".2\")\n",
    "\n"
   ]
  }
 ],
 "metadata": {
  "kernelspec": {
   "display_name": "base",
   "language": "python",
   "name": "python3"
  },
  "language_info": {
   "codemirror_mode": {
    "name": "ipython",
    "version": 3
   },
   "file_extension": ".py",
   "mimetype": "text/x-python",
   "name": "python",
   "nbconvert_exporter": "python",
   "pygments_lexer": "ipython3",
   "version": "3.11.8"
  }
 },
 "nbformat": 4,
 "nbformat_minor": 2
}
