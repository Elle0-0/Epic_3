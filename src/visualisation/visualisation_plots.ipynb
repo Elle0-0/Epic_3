{
 "cells": [
  {
   "cell_type": "code",
   "execution_count": null,
   "metadata": {
    "id": "HV8gQq7q5CmH"
   },
   "outputs": [],
   "source": [
    "import matplotlib.pyplot as plt\n",
    "import pandas as pd\n",
    "import seaborn as sns\n",
    "\n",
    "from src.models.dataset_paths import Paths\n"
   ]
  },
  {
   "cell_type": "code",
   "execution_count": null,
   "metadata": {
    "colab": {
     "base_uri": "https://localhost:8080/",
     "height": 290
    },
    "id": "l3DsnJod5CmK",
    "outputId": "c1275bc3-b939-4878-c734-1c0ddaaa98d7"
   },
   "outputs": [],
   "source": [
    "df = pd.read_csv(Paths.CLEAN / \"combined-data.csv\")\n",
    "\n",
    "df.head()\n"
   ]
  },
  {
   "cell_type": "code",
   "execution_count": null,
   "outputs": [],
   "source": [
    "selected_country = 'India'\n",
    "\n",
    "country = df.loc[df['Country'] == selected_country]\n",
    "years = df.columns[1:52].str.split('_').str[0].astype(int)\n",
    "\n",
    "temp_data = country.iloc[0][1:52].astype(float)\n",
    "co2_data = country.iloc[0][54:].astype(float)\n",
    "\n",
    "max_co2 = max(co2_data)\n",
    "normalized_temp_data = [temp * max_co2 / max(temp_data) for temp in temp_data]\n",
    "\n",
    "plt.figure(figsize=(10, 6))\n",
    "plt.plot(years, normalized_temp_data, color='red', label='Normalized Temperature')\n",
    "plt.plot(years, co2_data, label='CO2 levels')\n",
    "plt.xlabel('Year')\n",
    "plt.ylabel('Value')\n",
    "plt.xticks(years, rotation=90)\n",
    "plt.legend()\n",
    "plt.grid()\n",
    "plt.show()\n"
   ],
   "metadata": {
    "collapsed": false
   }
  },
  {
   "cell_type": "code",
   "execution_count": null,
   "metadata": {
    "colab": {
     "base_uri": "https://localhost:8080/",
     "height": 339
    },
    "id": "oBdvztam5Szr",
    "outputId": "5fdfb8ab-53a2-4c8d-c996-7721dc9125f7"
   },
   "outputs": [],
   "source": [
    "year = 2020\n",
    "countries = df['Country']\n",
    "levels = df[f\"{year}_co2_total\"]\n",
    "plt.figure(figsize=(16, 6))\n",
    "sns.barplot(x=countries, y=levels, hue=countries)\n",
    "plt.xticks(rotation=90)\n",
    "plt.tight_layout()\n",
    "plt.show()\n"
   ]
  },
  {
   "cell_type": "code",
   "execution_count": null,
   "metadata": {
    "colab": {
     "base_uri": "https://localhost:8080/"
    },
    "id": "mw7mNCC65V1L",
    "outputId": "39b3af04-97eb-443a-e40b-4d342b099a20"
   },
   "outputs": [],
   "source": [
    "year = 2021\n",
    "\n",
    "co2_column_name = f\"{year}_co2_total\"\n",
    "\n",
    "temp_column_name = f\"{year}_surface_temperature\"\n",
    "\n",
    "co2_max = df[df[co2_column_name] == df[co2_column_name].max()]\n",
    "temp_max = df[df[temp_column_name] == df[temp_column_name].max()]\n",
    "\n",
    "co2_country_max = co2_max['Country'].values[0]\n",
    "temp_country_max = temp_max['Country'].values[0]\n",
    "\n",
    "print(f'max co2 levels in {year}: {co2_max[co2_column_name].values[0]}\\n  country: {co2_country_max}')\n",
    "print(f'max surface temperature in {year}: {temp_max[temp_column_name].values[0]}\\n  country: {temp_country_max}')\n"
   ]
  },
  {
   "cell_type": "code",
   "execution_count": null,
   "metadata": {
    "colab": {
     "base_uri": "https://localhost:8080/",
     "height": 1000
    },
    "id": "x5V3UY8F5aAi",
    "outputId": "8eba1161-253d-41ee-b89d-9e3277433c9e"
   },
   "outputs": [],
   "source": [
    "year = 2020\n",
    "\n",
    "sns.scatterplot(data=df, y=f\"{year}_co2_total\", x=f\"{year}_surface_temperature\", hue=\"Country\")\n",
    "\n",
    "# plt.figure(figsize=(12, 6))\n",
    "\n",
    "plt.legend(bbox_to_anchor=(1, 2), loc='upper left')\n",
    "\n",
    "plt.show()\n"
   ]
  }
 ],
 "metadata": {
  "colab": {
   "provenance": []
  },
  "kernelspec": {
   "name": "python3",
   "language": "python",
   "display_name": "Python 3 (ipykernel)"
  },
  "language_info": {
   "name": "python"
  }
 },
 "nbformat": 4,
 "nbformat_minor": 0
}
