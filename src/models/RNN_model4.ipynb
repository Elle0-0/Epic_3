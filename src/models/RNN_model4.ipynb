{
 "cells": [
  {
   "cell_type": "code",
   "execution_count": null,
   "metadata": {
    "id": "sK72MOi53mm_"
   },
   "outputs": [],
   "source": [
    "import matplotlib.pyplot as plt\n",
    "import numpy as np\n",
    "import pandas as pd\n",
    "from keras.layers import LSTM, Dense\n",
    "from keras.models import Sequential\n",
    "from sklearn.metrics import mean_squared_error, mean_absolute_error, r2_score\n",
    "from sklearn.preprocessing import MinMaxScaler\n",
    "\n",
    "from dataset_paths import Paths\n"
   ]
  },
  {
   "cell_type": "code",
   "execution_count": null,
   "metadata": {
    "colab": {
     "base_uri": "https://localhost:8080/",
     "height": 272
    },
    "id": "KnMvzq383rL6",
    "outputId": "5a139032-0653-422d-d219-a1562e33b8fc"
   },
   "outputs": [],
   "source": [
    "df = pd.read_csv(Paths.OHE / \"combined-data.csv\")\n",
    "\n",
    "df.head()\n"
   ]
  },
  {
   "cell_type": "code",
   "execution_count": null,
   "metadata": {
    "id": "lW3464_f6r7I"
   },
   "outputs": [],
   "source": [
    "avg_by_year = df.groupby('Year').mean()\n",
    "\n",
    "X = avg_by_year[['Co2']].values\n",
    "y = avg_by_year['Temperature'].values\n",
    "\n",
    "scaler = MinMaxScaler()\n",
    "X_scaled = scaler.fit_transform(X)\n",
    "\n",
    "split_index = int(len(X_scaled) * 0.8)\n",
    "X_train, X_test = X_scaled[:split_index], X_scaled[split_index:]\n",
    "y_train, y_test = y[:split_index], y[split_index:]\n",
    "\n",
    "X_train = X_train.reshape(X_train.shape[0], X_train.shape[1], 1)\n",
    "X_test = X_test.reshape(X_test.shape[0], X_test.shape[1], 1)\n"
   ]
  },
  {
   "cell_type": "code",
   "execution_count": null,
   "metadata": {
    "colab": {
     "base_uri": "https://localhost:8080/"
    },
    "id": "K7F8RDvo6-Mc",
    "outputId": "d6c575c9-cc72-4082-881c-259a4b8f91ad"
   },
   "outputs": [],
   "source": [
    "model = Sequential([\n",
    "    LSTM(units=50, return_sequences=True, input_shape=(X_train.shape[1], 1)),\n",
    "    LSTM(units=50, return_sequences=False),\n",
    "    Dense(units=1)\n",
    "])\n",
    "\n",
    "model.compile(optimizer='adam', loss='mse')\n",
    "\n",
    "model.fit(X_train, y_train, batch_size=5, epochs=50, validation_data=(X_test, y_test))\n",
    "\n",
    "loss = model.evaluate(X_test, y_test)\n",
    "print(\"Test Loss:\", loss)\n",
    "\n",
    "predictions = model.predict(X_test)\n"
   ]
  },
  {
   "cell_type": "code",
   "execution_count": null,
   "metadata": {
    "colab": {
     "base_uri": "https://localhost:8080/"
    },
    "id": "AodwWxTN7HmR",
    "outputId": "9ef50724-5e32-463f-c313-11ee420f51c7"
   },
   "outputs": [],
   "source": [
    "mse = mean_squared_error(y_test, predictions)\n",
    "\n",
    "rmse = np.sqrt(mse)\n",
    "\n",
    "mae = mean_absolute_error(y_test, predictions)\n",
    "\n",
    "r2 = r2_score(y_test, predictions)\n",
    "\n",
    "print(\"MSE:\".ljust(20), mse)\n",
    "print(\"RMSE:\".ljust(20), rmse)\n",
    "print(\"MAE:\".ljust(20), mae)\n",
    "print(\"R^2:\".ljust(20), r2)\n"
   ]
  },
  {
   "cell_type": "code",
   "execution_count": null,
   "metadata": {
    "colab": {
     "base_uri": "https://localhost:8080/",
     "height": 545
    },
    "id": "ln9MYeW67Mbp",
    "outputId": "112149f2-f9f1-44f2-9624-8dff4e0b9c34"
   },
   "outputs": [],
   "source": [
    "plt.figure(figsize=(10, 6))\n",
    "\n",
    "plt.scatter(X_test, predictions, color='blue', label='Predicted', marker='o')\n",
    "plt.scatter(X_test, y_test, color='red', label='Actual', marker='o')\n",
    "plt.scatter(X_train, y_train, color='purple', label='trained', marker='o')\n",
    "\n",
    "plt.title(\"Overall - Actual vs Predicted\")\n",
    "plt.legend()\n",
    "\n",
    "plt.show()\n"
   ]
  },
  {
   "cell_type": "code",
   "execution_count": null,
   "metadata": {
    "colab": {
     "base_uri": "https://localhost:8080/",
     "height": 1000
    },
    "id": "0yMfbO847Yic",
    "outputId": "20d3a52e-e183-4d80-a51e-d44487fc5f26"
   },
   "outputs": [],
   "source": [
    "for country in df.columns[3:]:\n",
    "\n",
    "    if df[country].sum() == 52:\n",
    "        country_data = df[df[country] == 1][['Year', 'Temperature', 'Co2']]\n",
    "\n",
    "        X = country_data[['Co2']].values\n",
    "        y = country_data['Temperature'].values\n",
    "\n",
    "        # Scale the data\n",
    "        scaler = MinMaxScaler()\n",
    "        X_scaled = scaler.fit_transform(X)\n",
    "\n",
    "        # Split the data into training 80% and testing sets 20%\n",
    "        split_index = int(len(X_scaled) * 0.8)\n",
    "        X_train, X_test = X_scaled[:split_index], X_scaled[split_index:]\n",
    "        y_train, y_test = y[:split_index], y[split_index:]\n",
    "\n",
    "        # Reshape\n",
    "        X_train = X_train.reshape(X_train.shape[0], X_train.shape[1], 1)\n",
    "        X_test = X_test.reshape(X_test.shape[0], X_test.shape[1], 1)\n",
    "\n",
    "        model = Sequential([\n",
    "            LSTM(units=50, return_sequences=True, input_shape=(X_train.shape[1], 1)),\n",
    "            LSTM(units=50, return_sequences=False),\n",
    "            Dense(units=1)\n",
    "        ])\n",
    "\n",
    "        model.compile(optimizer='adam', loss='mse')\n",
    "\n",
    "        model.fit(X_train, y_train, batch_size=5, epochs=50, validation_data=(X_test, y_test))\n",
    "\n",
    "        loss = model.evaluate(X_test, y_test)\n",
    "        print(f\"{country} Test Loss:\".ljust(20), loss)\n",
    "\n",
    "        predictions = model.predict(X_test)\n",
    "\n",
    "        mse = mean_squared_error(y_test, predictions)\n",
    "        print(f\"{country} MSE:\".ljust(20), mse)\n",
    "\n",
    "        r2 = r2_score(y_test, predictions)\n",
    "        print(\"r^2: \".ljust(20), r2)\n",
    "\n",
    "        plt.figure(figsize=(10, 6))\n",
    "        plt.scatter(X_test, predictions, color='blue', label='Predicted', marker='o')\n",
    "        plt.scatter(X_test, y_test, color='red', label='Actual', marker='o')\n",
    "        plt.scatter(X_train, y_train, color='purple', label='trained', marker='o')\n",
    "        plt.title(f\"{country} - Actual vs Predicted\")\n",
    "        plt.legend()\n",
    "        plt.show()\n"
   ]
  }
 ],
 "metadata": {
  "colab": {
   "provenance": []
  },
  "kernelspec": {
   "name": "python3",
   "language": "python",
   "display_name": "Python 3 (ipykernel)"
  },
  "language_info": {
   "name": "python"
  }
 },
 "nbformat": 4,
 "nbformat_minor": 0
}
