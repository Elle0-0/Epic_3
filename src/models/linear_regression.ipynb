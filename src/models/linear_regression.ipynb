{
 "cells": [
  {
   "cell_type": "code",
   "execution_count": null,
   "metadata": {
    "id": "rSsNHB2xtqHs"
   },
   "outputs": [],
   "source": [
    "import pandas as pd\n",
    "import matplotlib.pyplot as plt\n",
    "from sklearn.linear_model import LinearRegression\n",
    "import numpy as np\n",
    "from sklearn.metrics import mean_squared_error\n",
    "from sklearn.preprocessing import OneHotEncoder\n",
    "\n",
    "from dataset_paths import Paths\n"
   ]
  },
  {
   "cell_type": "code",
   "execution_count": null,
   "outputs": [],
   "source": [
    "df = pd.read_csv(Paths.CLEAN / \"combined-data.csv\")\n",
    "\n",
    "df.head(3)\n"
   ],
   "metadata": {
    "collapsed": false
   }
  },
  {
   "cell_type": "code",
   "execution_count": null,
   "metadata": {
    "id": "UDNS34rsDyCa"
   },
   "outputs": [],
   "source": [
    "# g = sns.FacetGrid(data = df, col = \"Country\")\n",
    "\n",
    "# co2_columns = df.columns[df.columns.str.contains('_co2_total')]\n",
    "# temp_columns = df.columns[df.columns.str.contains('_surface_temperature')]\n",
    "\n",
    "# temp_data = df[co2_columns].astype(float).values.flatten()\n",
    "# co2_data = df[temp_columns].astype(float).values.flatten()\n",
    "\n",
    "# # temp_data = list[temp_columns]\n",
    "# # co2_data = list[co2_columns]\n",
    "\n",
    "# g.map(sns.scatterplot, co2_data, temp_data)\n",
    "\n",
    "# plt.show()"
   ]
  },
  {
   "cell_type": "code",
   "execution_count": null,
   "metadata": {
    "colab": {
     "base_uri": "https://localhost:8080/"
    },
    "id": "Xfy6TgSyDgcH",
    "outputId": "62020d72-686c-4e78-b391-4f0fda4136d3"
   },
   "outputs": [],
   "source": [
    "\n",
    "enc = OneHotEncoder(handle_unknown = 'ignore')\n",
    "\n",
    "X1 = df.loc[:][1:52]\n",
    "X2 = df.loc[:][54:]\n",
    "\n",
    "X = pd.concat([X1, X2], axis=1)\n",
    "\n",
    "enc.fit(X)\n",
    "\n",
    "encoded = enc.fit_transform(X)\n",
    "\n",
    "encoded_array = encoded.toarray()\n",
    "\n",
    "encoded_array\n"
   ]
  },
  {
   "cell_type": "code",
   "execution_count": null,
   "metadata": {
    "id": "KuKt_tAFSeB-"
   },
   "outputs": [],
   "source": [
    "enc = OneHotEncoder(handle_unknown='ignore')\n",
    "\n",
    "co2_concatenated = pd.concat([df.iloc[1:52]], axis = 1)\n",
    "\n",
    "#enc.fit_transformed(co2_concatenated)\n",
    "\n",
    "temp_concatenated = pd.concat([df.iloc[54:]], axis =1)\n",
    "\n",
    "#enc.fit_transformed(temp_concatenated)\n",
    "\n",
    "X_concatenated = pd.concat([co2_concatenated, temp_concatenated], axis=1)\n",
    "\n",
    "#enc.fit(X_concatenated)\n",
    "\n",
    "encoded_matrix = enc.fit_transform(X_concatenated)\n"
   ]
  },
  {
   "cell_type": "code",
   "execution_count": null,
   "metadata": {
    "colab": {
     "base_uri": "https://localhost:8080/"
    },
    "id": "fMHp3shKMZe6",
    "outputId": "200c59ac-f223-418d-924a-adce105ad2a4"
   },
   "outputs": [],
   "source": [
    "encoded_matrix.toarray()\n"
   ]
  },
  {
   "cell_type": "code",
   "execution_count": null,
   "metadata": {
    "id": "8I05X846qGcK"
   },
   "outputs": [],
   "source": [
    "# @title Linera Regression\n",
    "\n",
    "X = df.iloc[:, 1:52]\n",
    "\n",
    "y = df.iloc[:, 54:]\n",
    "\n",
    "X_average = X.mean()\n",
    "y_average = y.mean()\n"
   ]
  },
  {
   "cell_type": "code",
   "execution_count": null,
   "metadata": {
    "id": "KZPr-XpuXGmk"
   },
   "outputs": [],
   "source": [
    "test_ratio = 0.2\n",
    "validation_ratio = 0.2\n",
    "total_size = len(X_average)\n",
    "\n",
    "test_size = int(total_size * test_ratio)\n",
    "validation_size = int(total_size * validation_ratio)\n",
    "train_size = total_size - test_size - validation_size\n",
    "\n",
    "\n",
    "rnd_indices = np.random.permutation(total_size)\n",
    "\n",
    "\n",
    "X_train = X_average.iloc[rnd_indices[:train_size]]\n",
    "y_train = y_average.iloc[rnd_indices[:train_size]]\n",
    "\n",
    "X_valid = X_average.iloc[rnd_indices[train_size:train_size+validation_size]]\n",
    "y_valid = y_average.iloc[rnd_indices[train_size:train_size+validation_size]]\n",
    "\n",
    "X_test = X_average.iloc[rnd_indices[train_size+validation_size:]]\n",
    "y_test = y_average.iloc[rnd_indices[train_size+validation_size:]]\n"
   ]
  },
  {
   "cell_type": "code",
   "execution_count": null,
   "metadata": {
    "colab": {
     "base_uri": "https://localhost:8080/",
     "height": 472
    },
    "id": "1X08bHz5aP25",
    "outputId": "e792aa1f-adda-4ca8-8981-f5184d32bf7f"
   },
   "outputs": [],
   "source": [
    "plt.scatter(X_train, y_train, color='blue', label='Training Set')\n",
    "\n",
    "plt.scatter(X_valid, y_valid, color='green', label='Validation Set')\n",
    "\n",
    "plt.scatter(X_test, y_test, color='red', label='Test Set')\n",
    "\n",
    "plt.title('Training, Validation, and Test Sets')\n",
    "plt.xlabel('X')\n",
    "plt.ylabel('y')\n",
    "plt.legend()\n",
    "\n",
    "plt.show()\n"
   ]
  },
  {
   "cell_type": "code",
   "execution_count": null,
   "metadata": {
    "colab": {
     "base_uri": "https://localhost:8080/"
    },
    "id": "cnq1pmeyckse",
    "outputId": "ca89e58d-02ff-4b65-ea25-42c8e3e216e5"
   },
   "outputs": [],
   "source": [
    "X_train_reshaped = X_train.values.reshape(-1, 1)\n",
    "y_train_reshaped = y_train.values.reshape(-1, 1)\n",
    "\n",
    "linear_regression = LinearRegression()\n",
    "linear_regression.fit(X_train_reshaped,y_train_reshaped)\n",
    "\n",
    "y_valid_pred = linear_regression.predict(X_valid.values.reshape(-1, 1))\n",
    "\n",
    "# Calculate accuracy on the validation set\n",
    "validation_mse = mean_squared_error(y_valid, y_valid_pred)\n",
    "print(\"Validation MSE:\".ljust(20), validation_mse)\n",
    "\n",
    "validation_rmse = np.sqrt(validation_mse)\n",
    "print(\"Validation RMSE:\".ljust(20), validation_rmse)\n",
    "\n",
    "# Predict on the test set\n",
    "y_test_pred = linear_regression.predict(X_test.values.reshape(-1, 1))\n",
    "\n",
    "test_mse = mean_squared_error(y_test, y_test_pred)\n",
    "print(\"Test MSE:\".ljust(20), test_mse)\n",
    "\n",
    "test_rmse = np.sqrt(test_mse)\n",
    "print(\"Test RMSE:\".ljust(20), test_rmse)\n"
   ]
  },
  {
   "cell_type": "code",
   "execution_count": null,
   "metadata": {
    "colab": {
     "base_uri": "https://localhost:8080/"
    },
    "id": "FgS2eWLQLbH9",
    "outputId": "640f5291-f215-4e70-c722-082685b505d3"
   },
   "outputs": [],
   "source": [
    "e_2022 = 321\n",
    "e_2022_reshaped = np.array([[e_2022]])\n",
    "future_pred = linear_regression.predict(e_2022_reshaped)\n",
    "future_pred\n"
   ]
  },
  {
   "cell_type": "code",
   "execution_count": null,
   "metadata": {
    "colab": {
     "base_uri": "https://localhost:8080/",
     "height": 1000
    },
    "id": "wBICI49MjgZA",
    "outputId": "8efd98b3-bfa5-4d27-9ddb-47267d93d29e"
   },
   "outputs": [],
   "source": [
    "plt.figure(figsize=(10, 6))\n",
    "plt.scatter(y_valid, y_valid_pred, color='blue', label='Predicted vs Actual (Validation)')\n",
    "plt.plot([y_valid.min(), y_valid.max()], [y_valid.min(), y_valid.max()], '--', color='red')\n",
    "plt.title('Predicted vs Actual (Validation)')\n",
    "plt.xlabel('Actual Values')\n",
    "plt.ylabel('Predicted Values')\n",
    "plt.legend()\n",
    "plt.grid(True)\n",
    "plt.show()\n",
    "\n",
    "plt.figure(figsize=(10, 6))\n",
    "plt.scatter(y_test, y_test_pred, color='green', label='Predicted vs Actual (Test)')\n",
    "plt.plot([y_test.min(), y_test.max()], [y_test.min(), y_test.max()], '--', color='red')\n",
    "plt.title('Predicted vs Actual (Test)')\n",
    "plt.xlabel('Actual Values')\n",
    "plt.ylabel('Predicted Values')\n",
    "plt.legend()\n",
    "plt.grid(True)\n",
    "plt.show()\n"
   ]
  },
  {
   "cell_type": "markdown",
   "metadata": {
    "id": "M-bIX8rteHtB"
   },
   "source": [
    "# outliers in the dataset"
   ]
  },
  {
   "cell_type": "code",
   "execution_count": null,
   "metadata": {
    "id": "5LoESWbBeTHG"
   },
   "outputs": [],
   "source": [
    "X = df.iloc[:, 1:52]\n",
    "y = df.iloc[:, 54:]\n"
   ]
  },
  {
   "cell_type": "code",
   "execution_count": null,
   "metadata": {
    "colab": {
     "base_uri": "https://localhost:8080/",
     "height": 472
    },
    "id": "YRNtrHX5eZkM",
    "outputId": "9e58c3fb-c42f-499e-c838-8d93aaeab758"
   },
   "outputs": [],
   "source": [
    "plt.scatter(X, y, color='blue', label='Dataset')\n",
    "\n",
    "plt.title('Dataset (visible outliers)')\n",
    "plt.xlabel('CO2 levels')\n",
    "plt.ylabel('Surface temperatures')\n",
    "plt.legend()\n",
    "\n",
    "plt.show()\n"
   ]
  },
  {
   "cell_type": "code",
   "execution_count": null,
   "metadata": {
    "id": "wtNCGceCeonv"
   },
   "outputs": [],
   "source": [
    "test_ratio = 0.2\n",
    "validation_ratio = 0.2\n",
    "total_size = len(X)\n",
    "\n",
    "test_size = int(total_size * test_ratio)\n",
    "validation_size = int(total_size * validation_ratio)\n",
    "train_size = total_size - test_size - validation_size\n",
    "\n",
    "rnd_indices = np.random.permutation(total_size)\n",
    "\n",
    "X_train = X.iloc[rnd_indices[:train_size]]\n",
    "y_train = y.iloc[rnd_indices[:train_size]]\n",
    "\n",
    "X_valid = X.iloc[rnd_indices[train_size:train_size+validation_size]]\n",
    "y_valid = y.iloc[rnd_indices[train_size:train_size+validation_size]]\n",
    "\n",
    "X_test = X.iloc[rnd_indices[train_size+validation_size:]]\n",
    "y_test = y.iloc[rnd_indices[train_size+validation_size:]]\n"
   ]
  },
  {
   "cell_type": "code",
   "execution_count": null,
   "metadata": {
    "colab": {
     "base_uri": "https://localhost:8080/",
     "height": 472
    },
    "id": "tIz8Z4V4ezjD",
    "outputId": "28383bd0-2d78-4980-d28d-a79a6a386ae8"
   },
   "outputs": [],
   "source": [
    "plt.scatter(X_train, y_train, color='blue', label='Training Set')\n",
    "\n",
    "plt.scatter(X_valid, y_valid, color='green', label='Validation Set')\n",
    "\n",
    "plt.scatter(X_test, y_test, color='red', label='Test Set')\n",
    "\n",
    "plt.title('Training, Validation, and Test Sets')\n",
    "plt.xlabel('X')\n",
    "plt.ylabel('y')\n",
    "plt.legend()\n",
    "\n",
    "plt.show()\n"
   ]
  },
  {
   "cell_type": "code",
   "execution_count": null,
   "metadata": {
    "colab": {
     "base_uri": "https://localhost:8080/"
    },
    "id": "7KSdM3PcfEEa",
    "outputId": "8ee7ca24-7266-4848-caad-c146f15e37d6"
   },
   "outputs": [],
   "source": [
    "linear_regression = LinearRegression()\n",
    "linear_regression.fit(X_train,y_train)\n",
    "\n",
    "y_valid_pred = linear_regression.predict(X_valid)\n",
    "\n",
    "# Calculate accuracy on the validation set\n",
    "validation_mse = mean_squared_error(y_valid, y_valid_pred)\n",
    "print(\"Validation MSE:\".ljust(20), validation_mse)\n",
    "\n",
    "validation_rmse = np.sqrt(validation_mse)\n",
    "print(\"Validation RMSE:\".ljust(20), validation_rmse)\n",
    "\n",
    "# Predict on the test set\n",
    "y_test_pred = linear_regression.predict(X_test)\n",
    "\n",
    "test_mse = mean_squared_error(y_test, y_test_pred)\n",
    "print(\"Test MSE:\".ljust(20), test_mse)\n",
    "\n",
    "test_rmse = np.sqrt(test_mse)\n",
    "print(\"Test RMSE:\".ljust(20), test_rmse)\n"
   ]
  }
 ],
 "metadata": {
  "colab": {
   "provenance": []
  },
  "kernelspec": {
   "name": "python3",
   "language": "python",
   "display_name": "Python 3 (ipykernel)"
  },
  "language_info": {
   "name": "python"
  }
 },
 "nbformat": 4,
 "nbformat_minor": 0
}
