{
 "cells": [
  {
   "cell_type": "code",
   "execution_count": null,
   "metadata": {},
   "outputs": [],
   "source": [
    "import math\n",
    "\n",
    "import matplotlib.pyplot as plt\n",
    "import pandas as pd\n",
    "\n",
    "from models import Paths\n",
    "\n",
    "UNMODIFIED_DATA: pd.DataFrame = pd.read_csv(Paths.OHE / \"combined-data.csv\")\n"
   ]
  },
  {
   "cell_type": "code",
   "execution_count": null,
   "metadata": {},
   "outputs": [],
   "source": [
    "data = UNMODIFIED_DATA.groupby(\"Year\", as_index=False).mean()\n"
   ]
  },
  {
   "cell_type": "code",
   "execution_count": null,
   "metadata": {},
   "outputs": [],
   "source": [
    "from statsmodels.graphics.tsaplots import plot_acf, plot_pacf\n",
    "\n",
    "data.Temperature.diff().describe()\n"
   ]
  },
  {
   "cell_type": "code",
   "execution_count": null,
   "outputs": [],
   "source": [
    "plot_acf(data.Temperature.diff().dropna())\n"
   ],
   "metadata": {
    "collapsed": false
   }
  },
  {
   "cell_type": "code",
   "execution_count": null,
   "metadata": {},
   "outputs": [],
   "source": [
    "f = plt.figure()\n",
    "ax1 = f.add_subplot(121)\n",
    "ax1.set_title('2nd order differencing')\n",
    "ax1.plot(data.Temperature.diff().diff().dropna())\n",
    "\n",
    "ax2 = f.add_subplot(122)\n",
    "plot_acf(data.Temperature.diff().diff().dropna(), ax=ax2)\n",
    "\n",
    "plt.show()\n"
   ]
  },
  {
   "cell_type": "code",
   "execution_count": null,
   "metadata": {},
   "outputs": [],
   "source": [
    "f = plt.figure()\n",
    "ax1 = f.add_subplot(121)\n",
    "ax1.set_title('1st order differencing')\n",
    "ax1.plot(data.Temperature.diff().dropna())\n",
    "\n",
    "ax2 = f.add_subplot(122)\n",
    "plot_acf(data.Temperature.diff().dropna(), ax=ax2)\n",
    "\n",
    "plt.show()\n"
   ]
  },
  {
   "cell_type": "code",
   "execution_count": null,
   "metadata": {},
   "outputs": [],
   "source": [
    "from statsmodels.tsa.stattools import adfuller\n",
    "\n",
    "result = adfuller(data.Temperature)\n",
    "print(\"p-value: \".ljust(20), result[1])\n",
    "\n",
    "result = adfuller(data.Temperature.diff().dropna())\n",
    "print(\"1st diff p-value: \".ljust(20), result[1])\n",
    "\n",
    "result = adfuller(data.Temperature.diff().diff().dropna())\n",
    "print(\"2nd diff p-value: \".ljust(20), result[1])\n"
   ]
  },
  {
   "cell_type": "code",
   "execution_count": null,
   "metadata": {},
   "outputs": [],
   "source": [
    "# 1st difference is beyond the 0.05 test threshold, so that is our d value\n",
    "# d = 1\n",
    "\n",
    "f = plt.figure()\n",
    "ax1 = f.add_subplot(121)\n",
    "ax1.set_title('0th order differencing')\n",
    "ax1.plot(data.Temperature)\n",
    "\n",
    "ax2 = f.add_subplot(122)\n",
    "plot_pacf(data.Temperature, ax=ax2)\n",
    "\n",
    "plt.show()\n"
   ]
  },
  {
   "cell_type": "code",
   "execution_count": null,
   "metadata": {},
   "outputs": [],
   "source": [
    "f = plt.figure()\n",
    "ax1 = f.add_subplot(121)\n",
    "ax1.set_title('1st order differencing')\n",
    "ax1.plot(data.Temperature.diff().dropna())\n",
    "\n",
    "ax2 = f.add_subplot(122)\n",
    "plot_pacf(data.Temperature.diff().dropna(), ax=ax2)\n",
    "\n",
    "plt.show()\n"
   ]
  },
  {
   "cell_type": "code",
   "execution_count": null,
   "metadata": {},
   "outputs": [],
   "source": [
    "# 1st bar is most significant in both autocorrelations, so we set p = 1\n",
    "\n",
    "# We use the formula ARIMA(p = 1, d=1, q=2)"
   ]
  },
  {
   "cell_type": "code",
   "execution_count": null,
   "metadata": {},
   "outputs": [],
   "source": [
    "from statsmodels.tsa.arima.model import ARIMA\n",
    "from sklearn.model_selection import train_test_split\n",
    "\n",
    "train_data, test_data = train_test_split(data, shuffle=False, test_size=0.3)\n",
    "\n",
    "arima_model = ARIMA(train_data.Temperature, order=(1, 1, 2), exog=train_data.Co2)\n",
    "model = arima_model.fit()\n",
    "print(model.summary())\n",
    "# train_data.head()\n"
   ]
  },
  {
   "cell_type": "code",
   "execution_count": null,
   "metadata": {},
   "outputs": [],
   "source": [
    "p = model.predict()\n",
    "\n",
    "# p.head()\n",
    "# print(p.tolist())\n",
    "# plt.scatter(data.Year-1970, data.Temperature, color=\"blue\")\n",
    "plt.scatter(train_data.Year - 1970, train_data.Temperature, color=\"blue\")\n",
    "plt.scatter(p.index, p.tolist(), color=\"red\")\n",
    "# plt.show()\n",
    "\n",
    "# plt.plot(model.simulate(20000, anchor=49))\n",
    "\n",
    "plt.show()\n"
   ]
  },
  {
   "cell_type": "code",
   "execution_count": null,
   "metadata": {},
   "outputs": [],
   "source": [
    "forecast = model.forecast(steps=len(test_data), exog=test_data.Co2)\n",
    "\n",
    "# Plot the forecasted / test data\n",
    "plt.scatter(forecast.index, forecast)\n",
    "\n",
    "# plot the previously trained data as interpreted by the model\n",
    "plt.scatter(p.index, p.tolist(), color=\"red\")\n",
    "\n",
    "plt.scatter(data.Year - 1970, data.Temperature, color=\"green\")\n",
    "\n",
    "plt.show()\n"
   ]
  },
  {
   "cell_type": "code",
   "execution_count": null,
   "metadata": {},
   "outputs": [],
   "source": [
    "# Determine the accuracy of the future predictions based on the actual data we have for the future\n",
    "\n",
    "from sklearn.metrics import mean_squared_error, r2_score\n",
    "from math import sqrt\n",
    "\n",
    "rmse = sqrt(mean_squared_error(test_data.Temperature, forecast))\n",
    "r2 = r2_score(test_data.Temperature, forecast)\n",
    "\n",
    "print(\"RMSE of forecast: \".ljust(20), rmse)\n",
    "print(\"R2 of forecast: \".ljust(20), r2)\n"
   ]
  },
  {
   "cell_type": "code",
   "execution_count": null,
   "metadata": {},
   "outputs": [],
   "source": [
    "data = UNMODIFIED_DATA\n",
    "cc = [c for c in data.columns if c.startswith(\"Country_\")]\n",
    "\n",
    "maxdg = -math.inf\n",
    "mindg = +math.inf\n",
    "maxdc = None\n",
    "mindc = None\n",
    "\n",
    "for c in cc:\n",
    "    q = f\"`{c}` == 1\"\n",
    "    entries = data.query(q)\n",
    "\n",
    "    diffs = entries\n",
    "\n",
    "    maxd = max(diffs.Co2)\n",
    "    mind = min(diffs.Co2)\n",
    "    if maxd > maxdg:\n",
    "        maxdg = maxd\n",
    "        maxdc = c\n",
    "    if mind < mindg:\n",
    "        mindg = mind\n",
    "        mindc = c\n",
    "\n",
    "print(maxdc, mindc)\n",
    "print(maxdg, mindg)\n"
   ]
  },
  {
   "cell_type": "code",
   "execution_count": null,
   "metadata": {},
   "outputs": [],
   "source": [
    "data = data.query(\"`Country_United States` == 1\").dropna()\n",
    "\n",
    "plt.plot(data.Year, data.Co2)\n",
    "\n",
    "plt.show()\n"
   ]
  },
  {
   "cell_type": "code",
   "execution_count": null,
   "metadata": {},
   "outputs": [],
   "source": [
    "data = UNMODIFIED_DATA.groupby(\"Year\", as_index=False).mean()\n",
    "\n",
    "plt.scatter(data.Year, data.Temperature)\n",
    "\n",
    "plt.show()\n"
   ]
  }
 ],
 "metadata": {
  "kernelspec": {
   "display_name": "Python 3",
   "language": "python",
   "name": "python3"
  },
  "language_info": {
   "codemirror_mode": {
    "name": "ipython",
    "version": 3
   },
   "file_extension": ".py",
   "mimetype": "text/x-python",
   "name": "python",
   "nbconvert_exporter": "python",
   "pygments_lexer": "ipython3",
   "version": "3.11.5"
  }
 },
 "nbformat": 4,
 "nbformat_minor": 2
}
