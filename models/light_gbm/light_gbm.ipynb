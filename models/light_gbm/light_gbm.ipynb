{
 "cells": [
  {
   "cell_type": "markdown",
   "metadata": {},
   "source": [
    "IMPORTS"
   ]
  },
  {
   "cell_type": "code",
   "execution_count": null,
   "metadata": {},
   "outputs": [],
   "source": [
    "import lightgbm as lgb\n",
    "import numpy as np\n",
    "import pandas as pd\n",
    "import matplotlib.pyplot as plt"
   ]
  },
  {
   "cell_type": "markdown",
   "metadata": {},
   "source": [
    "READ DATA"
   ]
  },
  {
   "cell_type": "code",
   "execution_count": null,
   "metadata": {},
   "outputs": [],
   "source": [
    "# Read the CSV file\n",
    "data = pd.read_csv('C:\\\\Users\\\\ticta\\\\MyRepos\\\\Epic_3\\\\datasets\\\\clean\\\\combined-data.csv')\n",
    "# Display the first few rows of the DataFrame\n",
    "print(data.head())"
   ]
  },
  {
   "cell_type": "markdown",
   "metadata": {},
   "source": [
    "PROCESS DATA AND PLOT"
   ]
  },
  {
   "cell_type": "code",
   "execution_count": null,
   "metadata": {},
   "outputs": [],
   "source": [
    "import numpy as np\n",
    "# Split the data into X and Y\n",
    "X = data.filter(regex='co2_total')\n",
    "Y = data.filter(regex='surface_temperature')\n",
    "X_values = X.values.flatten()\n",
    "Y_values = Y.values.flatten()\n",
    "\n",
    "# Calculate row averages\n",
    "X_column_averages = np.mean(X, axis=0)\n",
    "Y_column_averages = np.mean(Y, axis=0)\n",
    "\n",
    "print(\"Row averages of X:\", X_column_averages)\n",
    "print(\"Row averages of Y:\", Y_column_averages)\n",
    "\n",
    "\n",
    "plt.figure(figsize=(10, 6))\n",
    "plt.scatter(X_values, Y_values)\n",
    "plt.xlabel('CO2 Total')\n",
    "plt.ylabel('Surface Temperature')\n",
    "plt.title('CO2 Total vs Surface Temperature')\n",
    "plt.figure(figsize=(10, 6))\n",
    "\n",
    "# Plot the row averages\n",
    "plt.figure(figsize=(10, 6))\n",
    "\n",
    "# Plot the row averages\n",
    "plt.scatter(X_column_averages, Y_column_averages, color='r', label='Row Averages')\n",
    "\n",
    "plt.xlabel('Average CO2 Total')\n",
    "plt.ylabel('Average Surface Temperature')\n",
    "plt.title('Average CO2 Total vs Average Surface Temperature')\n",
    "\n",
    "# Set the limits of the x and y axes\n",
    "plt.xlim(80, 130)\n",
    "\n",
    "plt.legend()\n",
    "plt.show()"
   ]
  },
  {
   "cell_type": "markdown",
   "metadata": {},
   "source": [
    "TRAIN MODEL"
   ]
  },
  {
   "cell_type": "code",
   "execution_count": null,
   "metadata": {},
   "outputs": [],
   "source": [
    "from sklearn.model_selection import train_test_split\n",
    "from sklearn.metrics import roc_auc_score\n",
    "X_train,X_valid,y_train,y_valid = train_test_split(X_column_averages,Y_column_averages,random_state=42,test_size=0.2)\n",
    "#X_train,X_valid,y_train,y_valid = train_test_split(X_values,Y_values,random_state=42,test_size=0.2)\n",
    "X_valid = np.reshape(X_valid, (-1, 1))\n",
    "X_train = np.reshape(X_train, (-1, 1))\n",
    "train = lgb.Dataset(X_train, label=y_train)\n",
    "valid = lgb.Dataset(X_valid, label=y_valid)\n",
    "parameters = {\n",
    "    \"objective\": \"regression\",\n",
    "    \"metric\": \"l2\",\n",
    "    \"boosting_type\": \"gbdt\",\n",
    "    \"verbose\": -1,\n",
    "    \"num_leaves\": 100,\n",
    "    \"learning_rate\": 0.25,\n",
    "    \"feature_fraction\": 0.90,\n",
    "}\n",
    "print(X_train.shape)\n",
    "print(y_train.shape)\n",
    "\n",
    "print(\"X_train dimensions: \", X_train.ndim)\n",
    "print(\"y_train dimensions: \", y_train.ndim)\n"
   ]
  },
  {
   "cell_type": "code",
   "execution_count": null,
   "metadata": {},
   "outputs": [],
   "source": [
    "import matplotlib.pyplot as plt\n",
    "\n",
    "# Assuming your data is 1-dimensional\n",
    "plt.figure(figsize=(10, 6))\n",
    "\n",
    "# Plot the training data\n",
    "plt.scatter(X_train, y_train, color='blue', label='Training data')\n",
    "\n",
    "# Plot the test data\n",
    "plt.scatter(X_valid, y_valid, color='red', label='Test data')\n",
    "\n",
    "plt.xlabel('X')\n",
    "plt.ylabel('Y')\n",
    "plt.title('Training and Test Data')\n",
    "plt.legend()\n",
    "plt.show()"
   ]
  },
  {
   "cell_type": "code",
   "execution_count": null,
   "metadata": {},
   "outputs": [],
   "source": [
    "import lightgbm as lgb\n",
    "model_lgbm = lgb.train(parameters, train, valid_sets=valid, num_boost_round=1200)\n"
   ]
  },
  {
   "cell_type": "markdown",
   "metadata": {},
   "source": [
    "Mean squared error evalutation"
   ]
  },
  {
   "cell_type": "code",
   "execution_count": null,
   "metadata": {},
   "outputs": [],
   "source": [
    "from sklearn.metrics import mean_squared_error\n",
    "\n",
    "y_train_pred = model_lgbm.predict(X_train)\n",
    "y_valid_pred = model_lgbm.predict(X_valid)\n",
    "\n",
    "# Make predictions\n",
    "y_train_pred = model_lgbm.predict(X_train, num_iteration=model_lgbm.best_iteration)\n",
    "y_valid_pred = model_lgbm.predict(X_valid, num_iteration=model_lgbm.best_iteration)\n",
    "\n",
    "# Print RMSE\n",
    "print('The RMSE of prediction on training set is: ', mean_squared_error(y_train, y_train_pred) ** 0.5)\n",
    "print('The RMSE of prediction on validation set is: ', mean_squared_error(y_valid, y_valid_pred) ** 0.5)\n",
    "\n",
    "from sklearn.metrics import mean_absolute_error\n",
    "\n",
    " # Calculate the mean absolute error\n",
    "\n",
    "print(\"Mean Absolute Error (MAE) on training set:\", mean_absolute_error(y_train, y_train_pred))\n",
    "print(\"Mean Absolute Error (MAE) on validation set:\", mean_absolute_error(y_valid, y_valid_pred ))\n",
    "\n"
   ]
  },
  {
   "cell_type": "markdown",
   "metadata": {},
   "source": [
    "Mean Absolute Squared Error"
   ]
  },
  {
   "cell_type": "code",
   "execution_count": null,
   "metadata": {},
   "outputs": [],
   "source": [
    "# Assuming X_test is your test data\n",
    "X_test = np.array([110]).reshape(-1, 1)\n",
    "y_test_pred = model_lgbm.predict(X_test, num_iteration=model_lgbm.best_iteration)\n",
    "print(\"The predicted value for 110 is:\", y_test_pred[0])"
   ]
  },
  {
   "cell_type": "code",
   "execution_count": null,
   "metadata": {},
   "outputs": [],
   "source": [
    "import matplotlib.pyplot as plt\n",
    "\n",
    "# Assuming your data is 1-dimensional\n",
    "plt.figure(figsize=(10, 6))\n",
    "\n",
    "# Plot the training data\n",
    "plt.scatter(X_train, y_train, color='blue', label='Training data')\n",
    "\n",
    "# Plot the test data\n",
    "plt.scatter(X_valid, y_valid, color='red', label='Test data')\n",
    "\n",
    "# Plot the prediction\n",
    "plt.scatter(X_test, y_test_pred, color='purple', label='Prediction')\n",
    "\n",
    "plt.xlabel('X')\n",
    "plt.ylabel('Y')\n",
    "plt.title('Training, Test Data and Prediction')\n",
    "plt.legend()\n",
    "plt.show()"
   ]
  },
  {
   "cell_type": "code",
   "execution_count": null,
   "metadata": {},
   "outputs": [],
   "source": [
    "# 1. Residuals Plot\n",
    "plt.figure(figsize=(10, 6))\n",
    "residuals_train = y_train - y_train_pred\n",
    "residuals_valid = y_valid - y_valid_pred\n",
    "plt.scatter(X_train, residuals_train, color='blue', label='Training data')\n",
    "plt.scatter(X_valid, residuals_valid, color='red', label='Validation data')\n",
    "plt.hlines(y=0, xmin=np.min(X_train), xmax=np.max(X_train), colors='black', linestyles='dashed')\n",
    "plt.xlabel('X')\n",
    "plt.ylabel('Residuals')\n",
    "plt.title('Residuals Plot')\n",
    "plt.legend()\n",
    "plt.show()\n",
    "\n",
    "# 2. Feature Importance Plot\n",
    "plt.figure(figsize=(10, 6))\n",
    "lgb.plot_importance(model_lgbm, max_num_features=10)\n",
    "plt.title(\"Feature importance\")\n",
    "plt.show()"
   ]
  }
 ],
 "metadata": {
  "kernelspec": {
   "display_name": "base",
   "language": "python",
   "name": "python3"
  },
  "language_info": {
   "codemirror_mode": {
    "name": "ipython",
    "version": 3
   },
   "file_extension": ".py",
   "mimetype": "text/x-python",
   "name": "python",
   "nbconvert_exporter": "python",
   "pygments_lexer": "ipython3",
   "version": "3.11.8"
  }
 },
 "nbformat": 4,
 "nbformat_minor": 2
}
